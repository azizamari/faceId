{
  "cells": [
    {
      "cell_type": "markdown",
      "metadata": {
        "id": "a4c7d695"
      },
      "source": [
        "## Import Dependencies"
      ],
      "id": "a4c7d695"
    },
    {
      "cell_type": "code",
      "execution_count": 2,
      "metadata": {
        "id": "e799367c"
      },
      "outputs": [],
      "source": [
        "import cv2 \n",
        "import os\n",
        "import matplotlib.pyplot as plt\n",
        "import numpy as np"
      ],
      "id": "e799367c"
    },
    {
      "cell_type": "code",
      "source": [
        "import tensorflow as tf\n",
        "from tensorflow import keras\n",
        "from keras.layers import Layer, Conv2D, Dense, MaxPooling2D, Input, Flatten\n",
        "from keras import Model"
      ],
      "metadata": {
        "id": "iaA-RKbDM6pw"
      },
      "id": "iaA-RKbDM6pw",
      "execution_count": 1,
      "outputs": []
    },
    {
      "cell_type": "markdown",
      "source": [
        "## Create Directories"
      ],
      "metadata": {
        "id": "uec2dgAfx_bT"
      },
      "id": "uec2dgAfx_bT"
    },
    {
      "cell_type": "code",
      "source": [
        "pos_path=os.path.join('data','positive')\n",
        "neg_path=os.path.join('data','negative')\n",
        "anch_path=os.path.join('data','anchor')"
      ],
      "metadata": {
        "id": "GDOcjAVXv6B4"
      },
      "id": "GDOcjAVXv6B4",
      "execution_count": null,
      "outputs": []
    },
    {
      "cell_type": "code",
      "source": [
        "os.makedirs(pos_path,exist_ok=True)\n",
        "os.makedirs(neg_path,exist_ok=True)\n",
        "os.makedirs(anch_path,exist_ok=True)"
      ],
      "metadata": {
        "id": "nHSRiCv8wDZb"
      },
      "id": "nHSRiCv8wDZb",
      "execution_count": null,
      "outputs": []
    },
    {
      "cell_type": "markdown",
      "source": [
        "## Collect wild faces data"
      ],
      "metadata": {
        "id": "LI-1rqeqyHxt"
      },
      "id": "LI-1rqeqyHxt"
    },
    {
      "cell_type": "markdown",
      "source": [
        "http://vis-www.cs.umass.edu/lfw/"
      ],
      "metadata": {
        "id": "TLEOY4PhyWZf"
      },
      "id": "TLEOY4PhyWZf"
    },
    {
      "cell_type": "code",
      "source": [
        "#downlaod lfw dataset\n",
        "!wget http://vis-www.cs.umass.edu/lfw/lfw.tgz"
      ],
      "metadata": {
        "colab": {
          "base_uri": "https://localhost:8080/"
        },
        "id": "Y4a7swDhyucR",
        "outputId": "138d3b57-84c2-477b-d895-e2edc04258c0"
      },
      "id": "Y4a7swDhyucR",
      "execution_count": null,
      "outputs": [
        {
          "output_type": "stream",
          "name": "stdout",
          "text": [
            "--2022-11-17 18:12:44--  http://vis-www.cs.umass.edu/lfw/lfw.tgz\n",
            "Resolving vis-www.cs.umass.edu (vis-www.cs.umass.edu)... 128.119.244.95\n",
            "Connecting to vis-www.cs.umass.edu (vis-www.cs.umass.edu)|128.119.244.95|:80... connected.\n",
            "HTTP request sent, awaiting response... 200 OK\n",
            "Length: 180566744 (172M) [application/x-gzip]\n",
            "Saving to: ‘lfw.tgz’\n",
            "\n",
            "lfw.tgz             100%[===================>] 172.20M   105MB/s    in 1.6s    \n",
            "\n",
            "2022-11-17 18:12:45 (105 MB/s) - ‘lfw.tgz’ saved [180566744/180566744]\n",
            "\n"
          ]
        }
      ]
    },
    {
      "cell_type": "code",
      "source": [
        "#uncompress tar file\n",
        "!tar -xf lfw.tgz"
      ],
      "metadata": {
        "id": "a5lgK30dywLv"
      },
      "id": "a5lgK30dywLv",
      "execution_count": 16,
      "outputs": []
    },
    {
      "cell_type": "code",
      "source": [
        "# Move images to folder we createwd\n",
        "for dir in os.listdir('lfw'):\n",
        "  for file in os.listdir(os.path.join('lfw',dir)):\n",
        "    path=os.path.join('lfw',dir,file)\n",
        "    new=os.path.join(neg_path,file)\n",
        "    os.replace(path,new)"
      ],
      "metadata": {
        "id": "EvS5g9mmzA0m"
      },
      "id": "EvS5g9mmzA0m",
      "execution_count": 17,
      "outputs": []
    },
    {
      "cell_type": "code",
      "source": [
        "# delte folder recursivly\n",
        "!rm lfw -r"
      ],
      "metadata": {
        "colab": {
          "base_uri": "https://localhost:8080/"
        },
        "id": "BranDqqn1Jq_",
        "outputId": "01b96b8d-604e-41c9-a75a-1b8e01e4c364"
      },
      "id": "BranDqqn1Jq_",
      "execution_count": 23,
      "outputs": [
        {
          "output_type": "stream",
          "name": "stdout",
          "text": [
            "rm: cannot remove 'lfw': No such file or directory\n"
          ]
        }
      ]
    },
    {
      "cell_type": "code",
      "source": [
        "!rm sample_data -r"
      ],
      "metadata": {
        "colab": {
          "base_uri": "https://localhost:8080/"
        },
        "id": "7_ph8Wjb1Yut",
        "outputId": "921a81a5-2d6f-45c2-abcc-ca9f357d442a"
      },
      "id": "7_ph8Wjb1Yut",
      "execution_count": 27,
      "outputs": [
        {
          "output_type": "stream",
          "name": "stdout",
          "text": [
            "rm: cannot remove 'sample_data': No such file or directory\n"
          ]
        }
      ]
    },
    {
      "cell_type": "code",
      "source": [
        "len(os.listdir(neg_path))"
      ],
      "metadata": {
        "colab": {
          "base_uri": "https://localhost:8080/"
        },
        "id": "klig9ulJ2QbE",
        "outputId": "720d9ee0-ad0a-4d96-dc92-efdb2734060b"
      },
      "id": "klig9ulJ2QbE",
      "execution_count": 28,
      "outputs": [
        {
          "output_type": "execute_result",
          "data": {
            "text/plain": [
              "13233"
            ]
          },
          "metadata": {},
          "execution_count": 28
        }
      ]
    },
    {
      "cell_type": "markdown",
      "source": [
        "## Collect positive and anchor data"
      ],
      "metadata": {
        "id": "CpoKytXB2DdD"
      },
      "id": "CpoKytXB2DdD"
    },
    {
      "cell_type": "code",
      "source": [
        "# connect to camera\n",
        "cap = cv2.VideoCapture(0)\n",
        "while cap.isOpened():\n",
        "  ret,frame=cap.read()\n",
        "  # show image\n",
        "  cv2.imshow('collection',frame)\n",
        "  # stop\n",
        "  if cv2.waitKey(1) & 0XFF==ord('q'):\n",
        "    break\n",
        "# release webcam and remove window\n",
        "cap.release()\n",
        "cv2.destroyAllWindows()"
      ],
      "metadata": {
        "id": "1RYL57M42JIE"
      },
      "id": "1RYL57M42JIE",
      "execution_count": 5,
      "outputs": []
    }
  ],
  "metadata": {
    "colab": {
      "provenance": [],
      "collapsed_sections": [
        "uec2dgAfx_bT",
        "LI-1rqeqyHxt"
      ]
    },
    "kernelspec": {
      "display_name": "Python 3 (ipykernel)",
      "language": "python",
      "name": "python3"
    },
    "language_info": {
      "codemirror_mode": {
        "name": "ipython",
        "version": 3
      },
      "file_extension": ".py",
      "mimetype": "text/x-python",
      "name": "python",
      "nbconvert_exporter": "python",
      "pygments_lexer": "ipython3",
      "version": "3.9.12"
    },
    "accelerator": "GPU",
    "gpuClass": "standard"
  },
  "nbformat": 4,
  "nbformat_minor": 5
}