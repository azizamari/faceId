{
  "cells": [
    {
      "cell_type": "markdown",
      "metadata": {
        "id": "view-in-github",
        "colab_type": "text"
      },
      "source": [
        "<a href=\"https://colab.research.google.com/github/azizamari/faceId/blob/main/faceId.ipynb\" target=\"_parent\"><img src=\"https://colab.research.google.com/assets/colab-badge.svg\" alt=\"Open In Colab\"/></a>"
      ]
    },
    {
      "cell_type": "markdown",
      "metadata": {
        "id": "a4c7d695"
      },
      "source": [
        "## Import Dependencies"
      ],
      "id": "a4c7d695"
    },
    {
      "cell_type": "code",
      "execution_count": 5,
      "metadata": {
        "id": "e799367c"
      },
      "outputs": [],
      "source": [
        "import cv2 \n",
        "import os\n",
        "import matplotlib.pyplot as plt\n",
        "import numpy as np"
      ],
      "id": "e799367c"
    },
    {
      "cell_type": "code",
      "source": [
        "import tensorflow as tf\n",
        "from tensorflow import keras\n",
        "from keras.layers import Layer, Conv2D, Dense, MaxPooling2D, Input, Flatten\n",
        "from keras import Model"
      ],
      "metadata": {
        "id": "iaA-RKbDM6pw"
      },
      "id": "iaA-RKbDM6pw",
      "execution_count": 6,
      "outputs": []
    },
    {
      "cell_type": "code",
      "source": [
        "tf.__version__"
      ],
      "metadata": {
        "colab": {
          "base_uri": "https://localhost:8080/",
          "height": 35
        },
        "id": "eHqljqQ6gqsd",
        "outputId": "91950e67-5792-4a7e-bc13-1a6d6f46ab87"
      },
      "id": "eHqljqQ6gqsd",
      "execution_count": 7,
      "outputs": [
        {
          "output_type": "execute_result",
          "data": {
            "text/plain": [
              "'2.9.2'"
            ],
            "application/vnd.google.colaboratory.intrinsic+json": {
              "type": "string"
            }
          },
          "metadata": {},
          "execution_count": 7
        }
      ]
    },
    {
      "cell_type": "markdown",
      "source": [
        "## Create Directories"
      ],
      "metadata": {
        "id": "uec2dgAfx_bT"
      },
      "id": "uec2dgAfx_bT"
    },
    {
      "cell_type": "code",
      "source": [
        "pos_path=os.path.join('data','positive')\n",
        "neg_path=os.path.join('data','negative')\n",
        "anch_path=os.path.join('data','anchor')"
      ],
      "metadata": {
        "id": "GDOcjAVXv6B4"
      },
      "id": "GDOcjAVXv6B4",
      "execution_count": 8,
      "outputs": []
    },
    {
      "cell_type": "code",
      "source": [
        "os.makedirs(pos_path,exist_ok=True)\n",
        "os.makedirs(neg_path,exist_ok=True)\n",
        "os.makedirs(anch_path,exist_ok=True)"
      ],
      "metadata": {
        "id": "nHSRiCv8wDZb"
      },
      "id": "nHSRiCv8wDZb",
      "execution_count": 9,
      "outputs": []
    },
    {
      "cell_type": "markdown",
      "source": [
        "## Collect wild faces data"
      ],
      "metadata": {
        "id": "LI-1rqeqyHxt"
      },
      "id": "LI-1rqeqyHxt"
    },
    {
      "cell_type": "markdown",
      "source": [
        "http://vis-www.cs.umass.edu/lfw/"
      ],
      "metadata": {
        "id": "TLEOY4PhyWZf"
      },
      "id": "TLEOY4PhyWZf"
    },
    {
      "cell_type": "code",
      "source": [
        "#downlaod lfw dataset\n",
        "!wget http://vis-www.cs.umass.edu/lfw/lfw.tgz"
      ],
      "metadata": {
        "colab": {
          "base_uri": "https://localhost:8080/"
        },
        "id": "Y4a7swDhyucR",
        "outputId": "70b69e9d-e1e2-4782-deda-24c39b733fa0"
      },
      "id": "Y4a7swDhyucR",
      "execution_count": 4,
      "outputs": [
        {
          "output_type": "stream",
          "name": "stdout",
          "text": [
            "--2022-11-18 11:34:07--  http://vis-www.cs.umass.edu/lfw/lfw.tgz\n",
            "Resolving vis-www.cs.umass.edu (vis-www.cs.umass.edu)... 128.119.244.95\n",
            "Connecting to vis-www.cs.umass.edu (vis-www.cs.umass.edu)|128.119.244.95|:80... connected.\n",
            "HTTP request sent, awaiting response... 200 OK\n",
            "Length: 180566744 (172M) [application/x-gzip]\n",
            "Saving to: ‘lfw.tgz’\n",
            "\n",
            "lfw.tgz             100%[===================>] 172.20M  30.5MB/s    in 6.3s    \n",
            "\n",
            "2022-11-18 11:34:14 (27.5 MB/s) - ‘lfw.tgz’ saved [180566744/180566744]\n",
            "\n"
          ]
        }
      ]
    },
    {
      "cell_type": "code",
      "source": [
        "#uncompress tar file\n",
        "!tar -xf lfw.tgz"
      ],
      "metadata": {
        "id": "a5lgK30dywLv"
      },
      "id": "a5lgK30dywLv",
      "execution_count": 10,
      "outputs": []
    },
    {
      "cell_type": "code",
      "source": [
        "# Move images to folder we createwd\n",
        "for dir in os.listdir('lfw'):\n",
        "  for file in os.listdir(os.path.join('lfw',dir)):\n",
        "    path=os.path.join('lfw',dir,file)\n",
        "    new=os.path.join(neg_path,file)\n",
        "    os.replace(path,new)"
      ],
      "metadata": {
        "id": "EvS5g9mmzA0m"
      },
      "id": "EvS5g9mmzA0m",
      "execution_count": 11,
      "outputs": []
    },
    {
      "cell_type": "code",
      "source": [
        "# delte folder recursivly\n",
        "!rm lfw -r"
      ],
      "metadata": {
        "id": "BranDqqn1Jq_"
      },
      "id": "BranDqqn1Jq_",
      "execution_count": 12,
      "outputs": []
    },
    {
      "cell_type": "code",
      "source": [
        "!rm sample_data -r"
      ],
      "metadata": {
        "id": "7_ph8Wjb1Yut"
      },
      "id": "7_ph8Wjb1Yut",
      "execution_count": 13,
      "outputs": []
    },
    {
      "cell_type": "code",
      "source": [
        "len(os.listdir(neg_path))"
      ],
      "metadata": {
        "colab": {
          "base_uri": "https://localhost:8080/"
        },
        "id": "klig9ulJ2QbE",
        "outputId": "f2cfc5a2-a4d5-476c-d46b-cacbc28044db"
      },
      "id": "klig9ulJ2QbE",
      "execution_count": 14,
      "outputs": [
        {
          "output_type": "execute_result",
          "data": {
            "text/plain": [
              "13233"
            ]
          },
          "metadata": {},
          "execution_count": 14
        }
      ]
    },
    {
      "cell_type": "markdown",
      "source": [
        "## Collect positive and anchor data"
      ],
      "metadata": {
        "id": "CpoKytXB2DdD"
      },
      "id": "CpoKytXB2DdD"
    },
    {
      "cell_type": "code",
      "source": [
        "from google.colab import drive\n",
        "drive.mount('/content/drive')"
      ],
      "metadata": {
        "id": "tQ9r533RhrvY"
      },
      "id": "tQ9r533RhrvY",
      "execution_count": null,
      "outputs": []
    },
    {
      "cell_type": "code",
      "source": [
        "import uuid"
      ],
      "metadata": {
        "id": "5XFOtuDaoF4o"
      },
      "id": "5XFOtuDaoF4o",
      "execution_count": 15,
      "outputs": []
    },
    {
      "cell_type": "code",
      "source": [
        "# connect to camera\n",
        "cap = cv2.VideoCapture(0)\n",
        "while cap.isOpened():\n",
        "  ret,frame=cap.read()\n",
        "  # resize image to 250x250\n",
        "  frame=frame[120:370,200:450, :]\n",
        "  # show image\n",
        "  cv2.imshow('webcam live feed',frame)\n",
        "  \n",
        "  # collect anchors\n",
        "  if cv2.waitKey(1) & 0XFF==ord('x'):\n",
        "    img_path=os.path.join(anch_path,f'{uuid.uuid1()}.jpg')\n",
        "    cv2.imwrite(img_path,frame)\n",
        "    \n",
        "  # collect positives\n",
        "  if cv2.waitKey(1) & 0XFF==ord('y'):\n",
        "    img_path=os.path.join(pos_path,f'{uuid.uuid1()}.jpg')\n",
        "    cv2.imwrite(img_path,frame)\n",
        "  # stop\n",
        "  if cv2.waitKey(1) & 0XFF==ord('q'):\n",
        "    break\n",
        "# release webcam and remove window\n",
        "cap.release()\n",
        "cv2.destroyAllWindows()"
      ],
      "metadata": {
        "id": "1RYL57M42JIE"
      },
      "id": "1RYL57M42JIE",
      "execution_count": 16,
      "outputs": []
    },
    {
      "cell_type": "code",
      "source": [
        "plt.imshow(frame)"
      ],
      "metadata": {
        "id": "HygMgNRojFL6"
      },
      "id": "HygMgNRojFL6",
      "execution_count": null,
      "outputs": []
    },
    {
      "cell_type": "code",
      "source": [
        "frame.shape"
      ],
      "metadata": {
        "id": "4ZunQc2VjIHb"
      },
      "id": "4ZunQc2VjIHb",
      "execution_count": null,
      "outputs": []
    },
    {
      "cell_type": "markdown",
      "source": [
        "## Load and Preprocess Images"
      ],
      "metadata": {
        "id": "zlFsyakmkajF"
      },
      "id": "zlFsyakmkajF"
    },
    {
      "cell_type": "markdown",
      "source": [
        "Getting image directories"
      ],
      "metadata": {
        "id": "4BjSO77UkjyE"
      },
      "id": "4BjSO77UkjyE"
    },
    {
      "cell_type": "code",
      "source": [
        "anchor = tf.data.Dataset.list_files(anch_path+'/*.jpg').take(300)\n",
        "positive = tf.data.Dataset.list_files(pos_path+'/*.jpg').take(300)\n",
        "negative = tf.data.Dataset.list_files(neg_path+'/*.jpg').take(300)"
      ],
      "metadata": {
        "colab": {
          "base_uri": "https://localhost:8080/"
        },
        "id": "k7e9o2thjKFl",
        "outputId": "d4c468cb-a1fd-476d-bbbe-311174351893"
      },
      "id": "k7e9o2thjKFl",
      "execution_count": 60,
      "outputs": [
        {
          "output_type": "stream",
          "name": "stdout",
          "text": [
            "300\n"
          ]
        }
      ]
    },
    {
      "cell_type": "code",
      "source": [
        "dir_test = anchor.as_numpy_iterator()"
      ],
      "metadata": {
        "id": "MxUTZkFpjSdT"
      },
      "id": "MxUTZkFpjSdT",
      "execution_count": 19,
      "outputs": []
    },
    {
      "cell_type": "code",
      "source": [
        "dir_test.next()"
      ],
      "metadata": {
        "colab": {
          "base_uri": "https://localhost:8080/"
        },
        "id": "F4Vwcks3jegk",
        "outputId": "37f26007-e092-4cf9-9d49-52da47198f64"
      },
      "id": "F4Vwcks3jegk",
      "execution_count": 20,
      "outputs": [
        {
          "output_type": "execute_result",
          "data": {
            "text/plain": [
              "b'data/anchor/89399c09-66c3-11ed-b5a2-ec2e9898c6a2.jpg'"
            ]
          },
          "metadata": {},
          "execution_count": 20
        }
      ]
    },
    {
      "cell_type": "markdown",
      "source": [
        "Scale and resize"
      ],
      "metadata": {
        "id": "xJD8kKVhknul"
      },
      "id": "xJD8kKVhknul"
    },
    {
      "cell_type": "code",
      "source": [
        "def preprocess(img_path):\n",
        "  byteimg=tf.io.read_file(img_path)\n",
        "  # load img using tensorflow\n",
        "  img=tf.io.decode_jpeg(byteimg)\n",
        "  # I used 105x105px to stay in line with the paper\n",
        "  # but it wouldn't cause issues to change this size\n",
        "  img=tf.image.resize(img,(105,105))\n",
        "  # scale values between 0 and 1\n",
        "  img=img/255\n",
        "  return img"
      ],
      "metadata": {
        "id": "5k4xYCh_lsgj"
      },
      "id": "5k4xYCh_lsgj",
      "execution_count": 42,
      "outputs": []
    },
    {
      "cell_type": "code",
      "source": [
        "img=preprocess('data/anchor/89399c09-66c3-11ed-b5a2-ec2e9898c6a2.jpg')"
      ],
      "metadata": {
        "id": "R3mFJYA5mAqJ"
      },
      "id": "R3mFJYA5mAqJ",
      "execution_count": 34,
      "outputs": []
    },
    {
      "cell_type": "code",
      "source": [
        "tf.reduce_max(img)"
      ],
      "metadata": {
        "colab": {
          "base_uri": "https://localhost:8080/"
        },
        "id": "R8kNQNaPm6xa",
        "outputId": "040bb903-7d03-4686-da9e-1096399544e0"
      },
      "id": "R8kNQNaPm6xa",
      "execution_count": 40,
      "outputs": [
        {
          "output_type": "execute_result",
          "data": {
            "text/plain": [
              "<tf.Tensor: shape=(), dtype=float32, numpy=0.8727941>"
            ]
          },
          "metadata": {},
          "execution_count": 40
        }
      ]
    },
    {
      "cell_type": "markdown",
      "source": [
        "Create labelled dataset"
      ],
      "metadata": {
        "id": "10tvhBNzmZvM"
      },
      "id": "10tvhBNzmZvM"
    },
    {
      "cell_type": "code",
      "source": [
        "# (anchor, positive) => 1,1,1,1,1\n",
        "# (anchor, negative) => 0,0,0,0,0\n",
        "positives = tf.data.Dataset.zip((anchor, positive, tf.data.Dataset.from_tensor_slices(tf.ones(len(anchor)))))\n",
        "negatives = tf.data.Dataset.zip((anchor, negative, tf.data.Dataset.from_tensor_slices(tf.zeros(len(anchor)))))\n",
        "data = positives.concatenate(negatives)"
      ],
      "metadata": {
        "id": "INVrteQdqdCU"
      },
      "id": "INVrteQdqdCU",
      "execution_count": 43,
      "outputs": []
    },
    {
      "cell_type": "code",
      "source": [
        "data"
      ],
      "metadata": {
        "colab": {
          "base_uri": "https://localhost:8080/"
        },
        "id": "LGzBIfEcqfqS",
        "outputId": "5f748074-cfff-4f63-9983-33f58db02574"
      },
      "id": "LGzBIfEcqfqS",
      "execution_count": 44,
      "outputs": [
        {
          "output_type": "execute_result",
          "data": {
            "text/plain": [
              "<ConcatenateDataset element_spec=(TensorSpec(shape=(), dtype=tf.string, name=None), TensorSpec(shape=(), dtype=tf.string, name=None), TensorSpec(shape=(), dtype=tf.float32, name=None))>"
            ]
          },
          "metadata": {},
          "execution_count": 44
        }
      ]
    },
    {
      "cell_type": "code",
      "source": [
        "# actual image instead of path\n",
        "def preprocess_twin(input_img, validation_img, label):\n",
        "    return(preprocess(input_img), preprocess(validation_img), label)\n",
        "# gotta apply this funciton to all the data"
      ],
      "metadata": {
        "id": "sQkSU1rSxI3n"
      },
      "id": "sQkSU1rSxI3n",
      "execution_count": 45,
      "outputs": []
    },
    {
      "cell_type": "code",
      "source": [
        "data = data.map(preprocess_twin)\n",
        "data = data.cache()\n",
        "data = data.shuffle(buffer_size=1024)"
      ],
      "metadata": {
        "id": "t6Eu6Ru1xXg9"
      },
      "id": "t6Eu6Ru1xXg9",
      "execution_count": 46,
      "outputs": []
    },
    {
      "cell_type": "code",
      "source": [
        "samples=data.as_numpy_iterator()\n",
        "ex=samples.next()\n",
        "print(ex[2])\n",
        "plt.imshow(ex[1])"
      ],
      "metadata": {
        "colab": {
          "base_uri": "https://localhost:8080/",
          "height": 303
        },
        "id": "ifA96kKWygMZ",
        "outputId": "ad02eab1-f8b0-465c-ae88-b50a516c976e"
      },
      "id": "ifA96kKWygMZ",
      "execution_count": 71,
      "outputs": [
        {
          "output_type": "stream",
          "name": "stdout",
          "text": [
            "0.0\n"
          ]
        },
        {
          "output_type": "execute_result",
          "data": {
            "text/plain": [
              "<matplotlib.image.AxesImage at 0x7f1dba7e5910>"
            ]
          },
          "metadata": {},
          "execution_count": 71
        },
        {
          "output_type": "display_data",
          "data": {
            "text/plain": [
              "<Figure size 432x288 with 1 Axes>"
            ],
            "image/png": "[encoded data removed]"
          },
          "metadata": {
            "needs_background": "light"
          }
        }
      ]
    }
  ],
  "metadata": {
    "colab": {
      "provenance": [],
      "collapsed_sections": [
        "uec2dgAfx_bT"
      ],
      "include_colab_link": true
    },
    "kernelspec": {
      "display_name": "Python 3 (ipykernel)",
      "language": "python",
      "name": "python3"
    },
    "language_info": {
      "codemirror_mode": {
        "name": "ipython",
        "version": 3
      },
      "file_extension": ".py",
      "mimetype": "text/x-python",
      "name": "python",
      "nbconvert_exporter": "python",
      "pygments_lexer": "ipython3",
      "version": "3.9.12"
    },
    "gpuClass": "standard"
  },
  "nbformat": 4,
  "nbformat_minor": 5
}